{
 "cells": [
  {
   "cell_type": "code",
   "execution_count": 2,
   "id": "23a1b741",
   "metadata": {},
   "outputs": [],
   "source": [
    "from selenium import webdriver\n",
    "from selenium.webdriver.common.by import By\n",
    "import time\n",
    "driver = webdriver.Chrome()\n",
    "driver.get('https://www.elcorteingles.es/supermercado/0110118002002592-gallina-blanca-caldo-de-pollo-casero-100-natural-envase-1-l/')\n",
    "time.sleep(5)\n",
    "driver.find_element(By.ID, 'cookies-agree-all').click()\n",
    "\n",
    "title = driver.find_element(By.CLASS_NAME, 'pdp-title').text\n",
    "print(title)\n",
    "\n",
    "price = driver.find_element(By.CLASS_NAME, 'pdp-prices')\n",
    "print(price.text)\n",
    "\n",
    "infos = driver.find_elements(By.CLASS_NAME, 'info')\n",
    "print(len(infos))\n",
    "\n",
    "title1 = infos[0].find_element(By.TAG_NAME, 'h3')\n",
    "contents1 = infos[0].find_elements(By.TAG_NAME, 'li')\n",
    "\n",
    "for ele in contents1:\n",
    "    print(ele.text)\n",
    "\n",
    "title2 = infos[1].find_element(By.TAG_NAME, 'h3')\n",
    "contents2 = infos[1].find_elements(By.TAG_NAME, 'li')\n",
    "\n",
    "for ele in contents2:\n",
    "    print(ele.text)\n",
    "\n",
    "# nutrients\n",
    "title3 = infos[2].find_element(By.TAG_NAME, 'h4')\n",
    "sub_title = infos[2].find_element(By.TAG_NAME, 'p')\n",
    "print(sub_title.text)\n",
    "\n",
    "trs = infos[2].find_elements(By.TAG_NAME, 'tr')\n",
    "\n",
    "for tr in trs:\n",
    "    if (tr.get_attribute(\"class\") == \"table-row _info\" or tr.get_attribute(\"class\") == \"table-sub-row _info\"):\n",
    "        print(tr.text)\n",
    "\n",
    "title4 = infos[4].find_element(By.TAG_NAME, 'h3')\n",
    "contents4 = infos[4].find_elements(By.TAG_NAME, 'li')\n",
    "\n",
    "for ele in contents4:\n",
    "    print(ele.text)\n",
    "\n",
    "ean = driver.find_element(By.XPATH, '//span[contains(@itemprop, \"sku\")]')\n",
    "print(ean.text)"
   ]
  }
 ],
 "metadata": {
  "kernelspec": {
   "display_name": "Python 3 (ipykernel)",
   "language": "python",
   "name": "python3"
  },
  "language_info": {
   "codemirror_mode": {
    "name": "ipython",
    "version": 3
   },
   "file_extension": ".py",
   "mimetype": "text/x-python",
   "name": "python",
   "nbconvert_exporter": "python",
   "pygments_lexer": "ipython3",
   "version": "3.9.12"
  }
 },
 "nbformat": 4,
 "nbformat_minor": 5
}
